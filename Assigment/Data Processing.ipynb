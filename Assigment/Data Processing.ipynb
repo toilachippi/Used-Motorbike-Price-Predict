{
 "cells": [
  {
   "cell_type": "code",
   "execution_count": 3,
   "id": "aae498a8",
   "metadata": {},
   "outputs": [],
   "source": [
    "import pandas as pd \n",
    "import numpy as np\n",
    "from sklearn.preprocessing import StandardScaler\n",
    "import csv \n",
    "import matplotlib.pyplot as plt \n",
    "plt.style.use('seaborn')\n",
    "import seaborn as sns\n",
    "plt.style.use('fivethirtyeight')\n",
    "import warnings\n",
    "warnings.filterwarnings('ignore')\n",
    "from matplotlib.ticker import FuncFormatter\n",
    "from sklearn.impute import SimpleImputer, KNNImputer\n",
    "from sklearn.preprocessing import OneHotEncoder, MaxAbsScaler\n",
    "from sklearn.pipeline import Pipeline\n",
    "from sklearn.compose import ColumnTransformer"
   ]
  },
  {
   "cell_type": "code",
   "execution_count": 5,
   "id": "31931ba6",
   "metadata": {},
   "outputs": [
    {
     "name": "stdout",
     "output_type": "stream",
     "text": [
      "Original Data:\n",
      "                                              title         price  timeStamp  \\\n",
      "0  XM MINH HUY- Hỗ Trợ Trả Góp Xe Đã Qua Sử Dụng  68.686.868 đ        NaN   \n",
      "1      XE MÁY TÚ TÀI- CHUYÊN CÁC DÒNG HONDA CAO CẤP  68.686.868 đ        NaN   \n",
      "2             Sh CBS 150cc 2018 biển số TP.Nam Định  62.999.999 đ        NaN   \n",
      "3                      Xe LEAD nguyên bản, như hình   6.800.000 đ        NaN   \n",
      "4       Honda Air Blade 125. Bản Sporrt. Chính chủ.  15.600.000 đ        NaN   \n",
      "\n",
      "    hang       dong  namdangki   soKM   tinhTrang  loaiXe      dungTich  \\\n",
      "0  Honda         SH       2022   8000  Đã sử dụng  Tay ga           NaN   \n",
      "1  Honda         SH       2022   1000  Đã sử dụng  Tay ga  100 - 175 cc   \n",
      "2  Honda         SH       2018   8900  Đã sử dụng  Tay ga  100 - 175 cc   \n",
      "3  Honda       Lead       2012  16800  Đã sử dụng  Tay ga  100 - 175 cc   \n",
      "4  Honda  Air Blade       2016  18600  Đã sử dụng  Tay ga  100 - 175 cc   \n",
      "\n",
      "   xuatXu    chinhSachBH TrongLuong  \n",
      "0     NaN  Bảo hành hãng    > 50 kg  \n",
      "1     NaN  Bảo hành hãng    > 50 kg  \n",
      "2     NaN  Bảo hành hãng    > 50 kg  \n",
      "3     NaN  Bảo hành hãng    > 50 kg  \n",
      "4     NaN  Bảo hành hãng    > 50 kg  \n"
     ]
    }
   ],
   "source": [
    "df = pd.read_excel(\"Data_DAP.xlsx\")\n",
    "\n",
    "print(\"Original Data:\")\n",
    "print(df.head())"
   ]
  },
  {
   "cell_type": "code",
   "execution_count": 6,
   "id": "496ce978",
   "metadata": {},
   "outputs": [
    {
     "name": "stdout",
     "output_type": "stream",
     "text": [
      "<class 'pandas.core.frame.DataFrame'>\n",
      "RangeIndex: 3358 entries, 0 to 3357\n",
      "Data columns (total 13 columns):\n",
      " #   Column       Non-Null Count  Dtype  \n",
      "---  ------       --------------  -----  \n",
      " 0   title        3358 non-null   object \n",
      " 1   price        3358 non-null   object \n",
      " 2   timeStamp    0 non-null      float64\n",
      " 3   hang         3358 non-null   object \n",
      " 4   dong         3358 non-null   object \n",
      " 5   namdangki    3358 non-null   int64  \n",
      " 6   soKM         3358 non-null   int64  \n",
      " 7   tinhTrang    3358 non-null   object \n",
      " 8   loaiXe       3358 non-null   object \n",
      " 9   dungTich     2944 non-null   object \n",
      " 10  xuatXu       0 non-null      float64\n",
      " 11  chinhSachBH  3358 non-null   object \n",
      " 12  TrongLuong   3358 non-null   object \n",
      "dtypes: float64(2), int64(2), object(9)\n",
      "memory usage: 341.2+ KB\n"
     ]
    }
   ],
   "source": [
    "df.info()"
   ]
  },
  {
   "cell_type": "code",
   "execution_count": 7,
   "id": "ceb6ee03",
   "metadata": {},
   "outputs": [
    {
     "name": "stdout",
     "output_type": "stream",
     "text": [
      "Rows     : 3358\n",
      "Columns  : 13\n",
      "\n",
      "Features :\n",
      "     : ['title', 'price', 'timeStamp', 'hang', 'dong', 'namdangki', 'soKM', 'tinhTrang', 'loaiXe', 'dungTich', 'xuatXu', 'chinhSachBH', 'TrongLuong']\n",
      "\n",
      "Missing values    : 7130\n",
      "\n",
      "Unique values :  \n",
      " title          2938\n",
      "price           449\n",
      "timeStamp         0\n",
      "hang             25\n",
      "dong            125\n",
      "namdangki        38\n",
      "soKM            432\n",
      "tinhTrang         1\n",
      "loaiXe            3\n",
      "dungTich          5\n",
      "xuatXu            0\n",
      "chinhSachBH       1\n",
      "TrongLuong        1\n",
      "dtype: int64\n"
     ]
    }
   ],
   "source": [
    "print('Rows     :',df.shape[0])\n",
    "print('Columns  :',df.shape[1])\n",
    "print('\\nFeatures :\\n     :',df.columns.tolist())\n",
    "print('\\nMissing values    :',df.isnull().values.sum())\n",
    "print('\\nUnique values :  \\n',df.nunique())"
   ]
  },
  {
   "cell_type": "markdown",
   "id": "12617fc7",
   "metadata": {},
   "source": [
    "1. Data Processing"
   ]
  },
  {
   "cell_type": "code",
   "execution_count": 8,
   "id": "1f10dbc4",
   "metadata": {},
   "outputs": [],
   "source": [
    "df['price'] = df['price'].str.replace('.', '').str.replace('đ', '')\n",
    "df.drop(columns=['timeStamp'], inplace=True)\n",
    "df.drop(columns=['xuatXu'], inplace=True)\n",
    "df.drop(columns=['title'], inplace=True)\n",
    "df.drop(columns=['TrongLuong'], inplace=True)"
   ]
  },
  {
   "cell_type": "markdown",
   "id": "b920a97d",
   "metadata": {},
   "source": [
    "2. Mising Values"
   ]
  },
  {
   "cell_type": "code",
   "execution_count": 9,
   "id": "e568aaa4",
   "metadata": {},
   "outputs": [
    {
     "data": {
      "text/html": [
       "<div>\n",
       "<style scoped>\n",
       "    .dataframe tbody tr th:only-of-type {\n",
       "        vertical-align: middle;\n",
       "    }\n",
       "\n",
       "    .dataframe tbody tr th {\n",
       "        vertical-align: top;\n",
       "    }\n",
       "\n",
       "    .dataframe thead th {\n",
       "        text-align: right;\n",
       "    }\n",
       "</style>\n",
       "<table border=\"1\" class=\"dataframe\">\n",
       "  <thead>\n",
       "    <tr style=\"text-align: right;\">\n",
       "      <th></th>\n",
       "      <th>Total</th>\n",
       "      <th>Percent</th>\n",
       "    </tr>\n",
       "  </thead>\n",
       "  <tbody>\n",
       "    <tr>\n",
       "      <th>dungTich</th>\n",
       "      <td>414</td>\n",
       "      <td>12.328767</td>\n",
       "    </tr>\n",
       "    <tr>\n",
       "      <th>price</th>\n",
       "      <td>0</td>\n",
       "      <td>0.000000</td>\n",
       "    </tr>\n",
       "    <tr>\n",
       "      <th>hang</th>\n",
       "      <td>0</td>\n",
       "      <td>0.000000</td>\n",
       "    </tr>\n",
       "    <tr>\n",
       "      <th>dong</th>\n",
       "      <td>0</td>\n",
       "      <td>0.000000</td>\n",
       "    </tr>\n",
       "    <tr>\n",
       "      <th>namdangki</th>\n",
       "      <td>0</td>\n",
       "      <td>0.000000</td>\n",
       "    </tr>\n",
       "    <tr>\n",
       "      <th>soKM</th>\n",
       "      <td>0</td>\n",
       "      <td>0.000000</td>\n",
       "    </tr>\n",
       "    <tr>\n",
       "      <th>tinhTrang</th>\n",
       "      <td>0</td>\n",
       "      <td>0.000000</td>\n",
       "    </tr>\n",
       "    <tr>\n",
       "      <th>loaiXe</th>\n",
       "      <td>0</td>\n",
       "      <td>0.000000</td>\n",
       "    </tr>\n",
       "    <tr>\n",
       "      <th>chinhSachBH</th>\n",
       "      <td>0</td>\n",
       "      <td>0.000000</td>\n",
       "    </tr>\n",
       "  </tbody>\n",
       "</table>\n",
       "</div>"
      ],
      "text/plain": [
       "             Total    Percent\n",
       "dungTich       414  12.328767\n",
       "price            0   0.000000\n",
       "hang             0   0.000000\n",
       "dong             0   0.000000\n",
       "namdangki        0   0.000000\n",
       "soKM             0   0.000000\n",
       "tinhTrang        0   0.000000\n",
       "loaiXe           0   0.000000\n",
       "chinhSachBH      0   0.000000"
      ]
     },
     "execution_count": 9,
     "metadata": {},
     "output_type": "execute_result"
    }
   ],
   "source": [
    "total = df.isnull().sum().sort_values(ascending=False)\n",
    "percent = ((df.isnull().sum())*100)/df.isnull().count().sort_values(ascending=False)\n",
    "missing_data = pd.concat([total, percent], axis=1, keys=['Total','Percent'], \n",
    "                         sort=False).sort_values('Total', ascending=False)\n",
    "missing_data.head(40)"
   ]
  },
  {
   "cell_type": "code",
   "execution_count": 10,
   "id": "f0dd32e6",
   "metadata": {},
   "outputs": [
    {
     "name": "stdout",
     "output_type": "stream",
     "text": [
      "Row: SH - have missing value: 10\n",
      "Row: Vision - have missing value: 46\n",
      "Row: Exciter - have missing value: 68\n",
      "Row: Winner X - have missing value: 33\n",
      "Row: Wave - have missing value: 58\n",
      "Row: Winner - have missing value: 19\n",
      "Row: Lead - have missing value: 15\n",
      "Row: Liberty - have missing value: 14\n",
      "Row: Air Blade - have missing value: 49\n",
      "Row: Nouvo - have missing value: 11\n",
      "Row: Vespa - have missing value: 54\n",
      "Row: Dream - have missing value: 15\n",
      "Row: R - have missing value: 12\n",
      "Row: Dòng khác - have missing value: 9\n",
      "Row: Blade - have missing value: 1\n"
     ]
    }
   ],
   "source": [
    "df['dungTich'].fillna('?', inplace=True)\n",
    "\n",
    "\n",
    "filtered_data = df[df['dungTich'].str.count('\\?') > 0]['dong']\n",
    "\n",
    "# In ra các dòng duy nhất trong cột 'dong'\n",
    "unique_dongs_with_question_mark = filtered_data.unique()\n",
    "\n",
    "# In ra tên các dòng unique trong cột 'dong' có kí tự '?' ở cột 'dungTich' tương ứng\n",
    "for dong in unique_dongs_with_question_mark:\n",
    "    print(\"Row:\", dong, \"- have missing value:\", \n",
    "          filtered_data[filtered_data == dong].count())"
   ]
  },
  {
   "cell_type": "markdown",
   "id": "f7642887",
   "metadata": {},
   "source": [
    "2.1. Handeling Missing Value"
   ]
  },
  {
   "cell_type": "code",
   "execution_count": 11,
   "id": "ca4bfe5a",
   "metadata": {},
   "outputs": [
    {
     "name": "stdout",
     "output_type": "stream",
     "text": [
      "Row: SH - have missing value: 10\n",
      "100 - 175 cc    258\n",
      "?                10\n",
      "Trên 175 cc       3\n",
      "50 - 100 cc       2\n",
      "Name: dungTich, dtype: int64\n",
      "\n",
      "Row: Vision - have missing value: 46\n",
      "100 - 175 cc    196\n",
      "?                46\n",
      "50 - 100 cc       3\n",
      "Trên 175 cc       1\n",
      "Name: dungTich, dtype: int64\n",
      "\n",
      "Row: Exciter - have missing value: 68\n",
      "100 - 175 cc    157\n",
      "?                68\n",
      "Name: dungTich, dtype: int64\n",
      "\n",
      "Row: Winner X - have missing value: 33\n",
      "100 - 175 cc    47\n",
      "?               33\n",
      "50 - 100 cc      1\n",
      "Trên 175 cc      1\n",
      "Name: dungTich, dtype: int64\n",
      "\n",
      "Row: Wave - have missing value: 58\n",
      "100 - 175 cc     265\n",
      "?                 58\n",
      "50 - 100 cc       27\n",
      "Dưới 50 cc         2\n",
      "Không biết rõ      1\n",
      "Name: dungTich, dtype: int64\n",
      "\n",
      "Row: Winner - have missing value: 19\n",
      "100 - 175 cc    35\n",
      "?               19\n",
      "Trên 175 cc      1\n",
      "Name: dungTich, dtype: int64\n",
      "\n",
      "Row: Lead - have missing value: 15\n",
      "100 - 175 cc    151\n",
      "?                15\n",
      "50 - 100 cc       1\n",
      "Name: dungTich, dtype: int64\n",
      "\n",
      "Row: Liberty - have missing value: 14\n",
      "100 - 175 cc    120\n",
      "?                14\n",
      "Name: dungTich, dtype: int64\n",
      "\n",
      "Row: Air Blade - have missing value: 49\n",
      "100 - 175 cc    278\n",
      "?                49\n",
      "50 - 100 cc       3\n",
      "Name: dungTich, dtype: int64\n",
      "\n",
      "Row: Nouvo - have missing value: 11\n",
      "100 - 175 cc    44\n",
      "?               11\n",
      "50 - 100 cc      2\n",
      "Name: dungTich, dtype: int64\n",
      "\n",
      "Row: Vespa - have missing value: 54\n",
      "100 - 175 cc     98\n",
      "?                54\n",
      "Không biết rõ     1\n",
      "Name: dungTich, dtype: int64\n",
      "\n",
      "Row: Dream - have missing value: 15\n",
      "100 - 175 cc    52\n",
      "50 - 100 cc     28\n",
      "?               15\n",
      "Dưới 50 cc       2\n",
      "Name: dungTich, dtype: int64\n",
      "\n",
      "Row: R - have missing value: 12\n",
      "100 - 175 cc    38\n",
      "?               12\n",
      "Trên 175 cc      2\n",
      "Name: dungTich, dtype: int64\n",
      "\n",
      "Row: Dòng khác - have missing value: 9\n",
      "100 - 175 cc    37\n",
      "Trên 175 cc     16\n",
      "50 - 100 cc     12\n",
      "Dưới 50 cc      10\n",
      "?                9\n",
      "Name: dungTich, dtype: int64\n",
      "\n",
      "Row: Blade - have missing value: 1\n",
      "100 - 175 cc    5\n",
      "?               1\n",
      "Name: dungTich, dtype: int64\n",
      "\n"
     ]
    }
   ],
   "source": [
    "dong_list = ['SH', 'Vision', 'Exciter', 'Winner X', 'Wave', 'Winner', 'Lead', 'Liberty', \n",
    "             'Air Blade', 'Nouvo', 'Vespa', 'Dream', 'R', 'Dòng khác', 'Blade']\n",
    "\n",
    "# Lặp qua từng dòng và in ra các giá trị tần suất của cột 'dungTich'\n",
    "for dong in dong_list:\n",
    "    # Lọc dữ liệu cho dòng hiện tại\n",
    "    a = df[df['dong'] == dong]\n",
    "    \n",
    "    # In ra thông tin số lượng giá trị trong cột 'dungTich'\n",
    "    print(\"Row:\", dong, \"- have missing value:\", \n",
    "          filtered_data[filtered_data == dong].count())\n",
    "    print(a['dungTich'].value_counts())\n",
    "    print()"
   ]
  },
  {
   "cell_type": "code",
   "execution_count": 12,
   "id": "05c5cdc2",
   "metadata": {},
   "outputs": [],
   "source": [
    "df['price'] = df['price'].astype(float)\n",
    "df['price'] = df['price'].astype(int)\n",
    "df = df[(df['dungTich'] != 'Không biết rõ') & (df['dong'] != 'Dòng khác')]"
   ]
  },
  {
   "cell_type": "code",
   "execution_count": 13,
   "id": "e8877d62",
   "metadata": {},
   "outputs": [
    {
     "name": "stdout",
     "output_type": "stream",
     "text": [
      "      price   hang       dong  namdangki   soKM   tinhTrang  loaiXe  \\\n",
      "0  68686868  Honda         SH       2022   8000  Đã sử dụng  Tay ga   \n",
      "1  68686868  Honda         SH       2022   1000  Đã sử dụng  Tay ga   \n",
      "2  62999999  Honda         SH       2018   8900  Đã sử dụng  Tay ga   \n",
      "3   6800000  Honda       Lead       2012  16800  Đã sử dụng  Tay ga   \n",
      "4  15600000  Honda  Air Blade       2016  18600  Đã sử dụng  Tay ga   \n",
      "\n",
      "       dungTich    chinhSachBH  \n",
      "0  100 - 175 cc  Bảo hành hãng  \n",
      "1  100 - 175 cc  Bảo hành hãng  \n",
      "2  100 - 175 cc  Bảo hành hãng  \n",
      "3  100 - 175 cc  Bảo hành hãng  \n",
      "4  100 - 175 cc  Bảo hành hãng  \n"
     ]
    }
   ],
   "source": [
    "for dong in dong_list:\n",
    "    # Lọc dữ liệu cho dòng hiện tại\n",
    "    a = df[df['dong'] == dong]\n",
    "    \n",
    "    # Tìm giá trị cao nhất trong cột 'dungTich'\n",
    "    max_value = df['dungTich'].mode().values[0]\n",
    "    \n",
    "    # Thay thế giá trị '?' trong cột 'dungTich' bằng giá trị cao nhất\n",
    "    df.loc[(df['dong'] == dong) & (df['dungTich'] == '?'), 'dungTich'] = max_value\n",
    "print(df.head(5\n",
    "))"
   ]
  },
  {
   "cell_type": "markdown",
   "id": "f82ff554",
   "metadata": {},
   "source": [
    "3. Visualize Data"
   ]
  },
  {
   "cell_type": "code",
   "execution_count": 14,
   "id": "0c10b181",
   "metadata": {},
   "outputs": [
    {
     "name": "stdout",
     "output_type": "stream",
     "text": [
      "Rows     : 3272\n",
      "Columns  : 9\n",
      "\n",
      "Features :\n",
      "     : ['price', 'hang', 'dong', 'namdangki', 'soKM', 'tinhTrang', 'loaiXe', 'dungTich', 'chinhSachBH']\n",
      "\n",
      "Missing values    : 0\n",
      "\n",
      "Unique values :  \n",
      " price          440\n",
      "hang            23\n",
      "dong           124\n",
      "namdangki       38\n",
      "soKM           422\n",
      "tinhTrang        1\n",
      "loaiXe           3\n",
      "dungTich         4\n",
      "chinhSachBH      1\n",
      "dtype: int64\n"
     ]
    }
   ],
   "source": [
    "print('Rows     :',df.shape[0])\n",
    "print('Columns  :',df.shape[1])\n",
    "print('\\nFeatures :\\n     :',df.columns.tolist())\n",
    "print('\\nMissing values    :',df.isnull().values.sum())\n",
    "print('\\nUnique values :  \\n',df.nunique())\n",
    "data= df"
   ]
  },
  {
   "cell_type": "code",
   "execution_count": 15,
   "id": "e6d8a1c1",
   "metadata": {},
   "outputs": [
    {
     "data": {
      "text/html": [
       "<div>\n",
       "<style scoped>\n",
       "    .dataframe tbody tr th:only-of-type {\n",
       "        vertical-align: middle;\n",
       "    }\n",
       "\n",
       "    .dataframe tbody tr th {\n",
       "        vertical-align: top;\n",
       "    }\n",
       "\n",
       "    .dataframe thead th {\n",
       "        text-align: right;\n",
       "    }\n",
       "</style>\n",
       "<table border=\"1\" class=\"dataframe\">\n",
       "  <thead>\n",
       "    <tr style=\"text-align: right;\">\n",
       "      <th></th>\n",
       "      <th>count</th>\n",
       "      <th>mean</th>\n",
       "      <th>std</th>\n",
       "      <th>min</th>\n",
       "      <th>25%</th>\n",
       "      <th>50%</th>\n",
       "      <th>75%</th>\n",
       "      <th>max</th>\n",
       "    </tr>\n",
       "  </thead>\n",
       "  <tbody>\n",
       "    <tr>\n",
       "      <th>price</th>\n",
       "      <td>3272.0</td>\n",
       "      <td>2.349749e+07</td>\n",
       "      <td>4.876352e+07</td>\n",
       "      <td>-2.147484e+09</td>\n",
       "      <td>9000000.0</td>\n",
       "      <td>16500000.0</td>\n",
       "      <td>26800000.0</td>\n",
       "      <td>455000000.0</td>\n",
       "    </tr>\n",
       "    <tr>\n",
       "      <th>namdangki</th>\n",
       "      <td>3272.0</td>\n",
       "      <td>2.017329e+03</td>\n",
       "      <td>5.185124e+00</td>\n",
       "      <td>1.981000e+03</td>\n",
       "      <td>2015.0</td>\n",
       "      <td>2018.0</td>\n",
       "      <td>2021.0</td>\n",
       "      <td>2024.0</td>\n",
       "    </tr>\n",
       "    <tr>\n",
       "      <th>soKM</th>\n",
       "      <td>3272.0</td>\n",
       "      <td>1.608145e+04</td>\n",
       "      <td>5.650099e+04</td>\n",
       "      <td>1.000000e+00</td>\n",
       "      <td>2000.0</td>\n",
       "      <td>5999.0</td>\n",
       "      <td>12000.0</td>\n",
       "      <td>986422.0</td>\n",
       "    </tr>\n",
       "  </tbody>\n",
       "</table>\n",
       "</div>"
      ],
      "text/plain": [
       "            count          mean           std           min        25%  \\\n",
       "price      3272.0  2.349749e+07  4.876352e+07 -2.147484e+09  9000000.0   \n",
       "namdangki  3272.0  2.017329e+03  5.185124e+00  1.981000e+03     2015.0   \n",
       "soKM       3272.0  1.608145e+04  5.650099e+04  1.000000e+00     2000.0   \n",
       "\n",
       "                  50%         75%          max  \n",
       "price      16500000.0  26800000.0  455000000.0  \n",
       "namdangki      2018.0      2021.0       2024.0  \n",
       "soKM           5999.0     12000.0     986422.0  "
      ]
     },
     "execution_count": 15,
     "metadata": {},
     "output_type": "execute_result"
    }
   ],
   "source": [
    "df.describe().T"
   ]
  },
  {
   "cell_type": "markdown",
   "id": "1e683043",
   "metadata": {},
   "source": [
    "Some important observations from the dataset:\n",
    "\n",
    "Lowest namdangki is 1981, highest is 2024\n",
    "\n",
    "Highest soKM is 986,422\n",
    "\n",
    "Price is 23,919,510 vnd"
   ]
  },
  {
   "cell_type": "markdown",
   "id": "b2e76d5e",
   "metadata": {},
   "source": []
  }
 ],
 "metadata": {
  "kernelspec": {
   "display_name": "Python 3 (ipykernel)",
   "language": "python",
   "name": "python3"
  },
  "language_info": {
   "codemirror_mode": {
    "name": "ipython",
    "version": 3
   },
   "file_extension": ".py",
   "mimetype": "text/x-python",
   "name": "python",
   "nbconvert_exporter": "python",
   "pygments_lexer": "ipython3",
   "version": "3.11.4"
  }
 },
 "nbformat": 4,
 "nbformat_minor": 5
}
